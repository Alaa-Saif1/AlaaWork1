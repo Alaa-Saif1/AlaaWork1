{
  "metadata": {
    "kernelspec": {
      "name": "python",
      "display_name": "Python (Pyodide)",
      "language": "python"
    },
    "language_info": {
      "codemirror_mode": {
        "name": "python",
        "version": 3
      },
      "file_extension": ".py",
      "mimetype": "text/x-python",
      "name": "python",
      "nbconvert_exporter": "python",
      "pygments_lexer": "ipython3",
      "version": "3.8"
    }
  },
  "nbformat_minor": 5,
  "nbformat": 4,
  "cells": [
    {
      "cell_type": "code",
      "source": "import pandas as pd\nfrom sklearn.linear_model import LinearRegression\n\ndata = {\n    'Height (cm)': [140, 150, 160, 170, 180],\n    'Shoe size': [7, 8, 9, 10, 11]\n}\n\ndf = pd.DataFrame(data)\n\n# Split the data into features(X)and target(y)\nX = df[['Height (cm)']]\ny = df['Shoe size']\n\n\nmodel = LinearRegression()\nmodel.fit(X, y)\n\n# Predict shoe sizes for new heights\n\nnew_heights = [[155], [165], [175]]\npredicted_sizes = model.predict(new_heights)\n\nfor height, size in zip(new_heights, predicted_sizes):\n    print(\"For a height of\", height[0], \"cm, the predicted shoe size is\", round(size, 2))\n",
      "metadata": {
        "trusted": true
      },
      "execution_count": null,
      "outputs": [],
      "id": "1ed0fec5-487e-4391-b70c-83c5525ea741"
    },
    {
      "cell_type": "code",
      "source": "",
      "metadata": {},
      "execution_count": null,
      "outputs": [],
      "id": "a95452d2-3aa1-4320-8ebf-979e905d30c7"
    }
  ]
}