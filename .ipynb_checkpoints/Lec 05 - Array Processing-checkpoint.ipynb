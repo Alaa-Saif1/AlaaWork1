{
 "cells": [
  {
   "cell_type": "code",
   "execution_count": 1,
   "id": "7b7a370f",
   "metadata": {},
   "outputs": [],
   "source": [
    "import numpy as np\n",
    "from numpy.random import randn"
   ]
  },
  {
   "cell_type": "code",
   "execution_count": 2,
   "id": "94127be0",
   "metadata": {},
   "outputs": [
    {
     "data": {
      "text/plain": [
       "array([  1,   2, 300, 400])"
      ]
     },
     "execution_count": 2,
     "metadata": {},
     "output_type": "execute_result"
    }
   ],
   "source": [
    "A = np.array([1,2,3,4])\n",
    "B= np.array([100,200,300,400])\n",
    "\n",
    "condition = np.array([True,True,False,False])\n",
    "answer2 = np.where(condition,A,B)\n",
    "answer2"
   ]
  },
  {
   "cell_type": "code",
   "execution_count": 3,
   "id": "9fc9d2bf",
   "metadata": {},
   "outputs": [
    {
     "data": {
      "text/plain": [
       "array([[ 1.04776283, -0.42665827, -2.58577838,  0.57492946, -1.09508694],\n",
       "       [ 1.14157273, -0.08962069,  1.96051664,  1.20148771,  0.3228476 ],\n",
       "       [-0.081699  ,  1.53942025, -1.07134856, -0.13796148, -0.41423414],\n",
       "       [-1.04211118,  1.72058557, -1.30270249,  0.55951209, -0.29164938],\n",
       "       [ 2.25769993, -0.52690576, -0.32972685, -0.09281155,  0.91436089]])"
      ]
     },
     "execution_count": 3,
     "metadata": {},
     "output_type": "execute_result"
    }
   ],
   "source": [
    "arr = randn(5,5)\n",
    "arr"
   ]
  },
  {
   "cell_type": "code",
   "execution_count": 6,
   "id": "0337f814",
   "metadata": {},
   "outputs": [
    {
     "name": "stdout",
     "output_type": "stream",
     "text": [
      "[[ 3.57164425  1.3600126  -1.87866756  2.86239418  0.35736959]\n",
      " [ 3.7123591   1.86556896  4.94077495  3.80223157  2.4842714 ]\n",
      " [ 1.8774515   4.30913038  0.39297716  1.79305778  1.37864879]\n",
      " [ 0.43683323  4.58087835  0.04594627  2.83926813  1.56252592]\n",
      " [ 5.3865499   1.20964136  1.50540972  1.86078268  3.37154134]]\n"
     ]
    }
   ],
   "source": [
    "a = 2+1.5*arr\n",
    "print(a)   "
   ]
  },
  {
   "cell_type": "code",
   "execution_count": 7,
   "id": "d946155e",
   "metadata": {},
   "outputs": [
    {
     "name": "stdout",
     "output_type": "stream",
     "text": [
      "[-2  5  4 -8  0]\n"
     ]
    }
   ],
   "source": [
    "A=np.array([-2,5,4,-8,0])\n",
    "print(A)"
   ]
  },
  {
   "cell_type": "code",
   "execution_count": 9,
   "id": "a9b91e07",
   "metadata": {},
   "outputs": [
    {
     "name": "stdout",
     "output_type": "stream",
     "text": [
      "[-8 -2  0  4  5]\n"
     ]
    }
   ],
   "source": [
    "print(np.sort(A))\n",
    "#Ascending"
   ]
  },
  {
   "cell_type": "code",
   "execution_count": 13,
   "id": "dff5d6d2",
   "metadata": {},
   "outputs": [
    {
     "name": "stdout",
     "output_type": "stream",
     "text": [
      "[ 5  4  0 -2 -8]\n"
     ]
    }
   ],
   "source": [
    "A[::-1].sort()\n",
    "print(A)\n",
    "#Descending"
   ]
  },
  {
   "cell_type": "code",
   "execution_count": null,
   "id": "b445d17f",
   "metadata": {},
   "outputs": [],
   "source": []
  }
 ],
 "metadata": {
  "kernelspec": {
   "display_name": "Python 3 (ipykernel)",
   "language": "python",
   "name": "python3"
  },
  "language_info": {
   "codemirror_mode": {
    "name": "ipython",
    "version": 3
   },
   "file_extension": ".py",
   "mimetype": "text/x-python",
   "name": "python",
   "nbconvert_exporter": "python",
   "pygments_lexer": "ipython3",
   "version": "3.9.13"
  }
 },
 "nbformat": 4,
 "nbformat_minor": 5
}
