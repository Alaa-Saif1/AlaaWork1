{
 "cells": [
  {
   "cell_type": "code",
   "execution_count": 1,
   "id": "44fcde1d",
   "metadata": {},
   "outputs": [],
   "source": [
    "import numpy as np\n",
    "import pandas as pd\n",
    "from pandas import Series,DataFrame"
   ]
  },
  {
   "cell_type": "code",
   "execution_count": 2,
   "id": "15c15bbb",
   "metadata": {},
   "outputs": [
    {
     "name": "stdout",
     "output_type": "stream",
     "text": [
      "0    10\n",
      "1    20\n",
      "2    30\n",
      "3    40\n",
      "4    50\n",
      "dtype: int64\n"
     ]
    }
   ],
   "source": [
    "# Create a Series using the following data: data = [10, 20, 30, 40, 50]\n",
    "\n",
    "ser1 = Series([10,20,30,40,50])\n",
    "print(ser1)"
   ]
  },
  {
   "cell_type": "code",
   "execution_count": 3,
   "id": "ef17cddb",
   "metadata": {},
   "outputs": [
    {
     "name": "stdout",
     "output_type": "stream",
     "text": [
      "a    10\n",
      "b    20\n",
      "c    30\n",
      "d    40\n",
      "e    50\n",
      "dtype: int64\n"
     ]
    }
   ],
   "source": [
    "# Assign the following index labels to the Series: index = ['a', 'b', 'c', 'd', 'e']\n",
    "\n",
    "data = [10, 20, 30, 40, 50]\n",
    "index = ['a', 'b', 'c', 'd', 'e']\n",
    "ser2 = Series(data, index=index)\n",
    "\n",
    "print(ser2)"
   ]
  },
  {
   "cell_type": "code",
   "execution_count": 4,
   "id": "cc277f33",
   "metadata": {},
   "outputs": [
    {
     "name": "stdout",
     "output_type": "stream",
     "text": [
      "Value at label 'b': 20\n",
      "Value at label 'e': 50\n"
     ]
    }
   ],
   "source": [
    "# Use index values to select the values of the Series for the labels 'b' and 'e'\n",
    "\n",
    "data = [10, 20, 30, 40, 50]\n",
    "index = ['a', 'b', 'c', 'd', 'e']\n",
    "series = Series(data, index=index)\n",
    "\n",
    "value_b = series['b']\n",
    "value_e = series['e']\n",
    "\n",
    "print(\"Value at label 'b':\", value_b)\n",
    "print(\"Value at label 'e':\", value_e)"
   ]
  },
  {
   "cell_type": "code",
   "execution_count": 5,
   "id": "4c96dc12",
   "metadata": {},
   "outputs": [
    {
     "name": "stdout",
     "output_type": "stream",
     "text": [
      "a    False\n",
      "b     True\n",
      "c    False\n",
      "d    False\n",
      "e    False\n",
      "dtype: bool\n"
     ]
    }
   ],
   "source": [
    "# Check if the Series contains the value 20 using a boolean array.\n",
    "\n",
    "data = [10, 20, 30, 40, 50]\n",
    "index = ['a', 'b', 'c', 'd', 'e']\n",
    "series = Series(data, index=index)\n",
    "\n",
    "contai_20 = series == 20\n",
    "print(contai_20)"
   ]
  },
  {
   "cell_type": "code",
   "execution_count": 6,
   "id": "6abcddbb",
   "metadata": {},
   "outputs": [
    {
     "name": "stdout",
     "output_type": "stream",
     "text": [
      "a    False\n",
      "b     True\n",
      "c    False\n",
      "d    False\n",
      "e    False\n",
      "dtype: bool\n"
     ]
    }
   ],
   "source": [
    "# Check if the Series contains the values 15 and 20 using a boolean array.\n",
    "\n",
    "data = [10, 20, 30, 40, 50]\n",
    "index = ['a', 'b', 'c', 'd', 'e']\n",
    "series = Series(data, index=index)\n",
    "\n",
    "contai_15_20 = series.isin([15, 20])\n",
    "print(contai_15_20)"
   ]
  },
  {
   "cell_type": "code",
   "execution_count": 7,
   "id": "92c39b79",
   "metadata": {},
   "outputs": [
    {
     "name": "stdout",
     "output_type": "stream",
     "text": [
      "a    15\n",
      "b    25\n",
      "c    35\n",
      "d    45\n",
      "e    55\n",
      "dtype: int64\n"
     ]
    }
   ],
   "source": [
    "# Add the value 5 to each element of the Series using array operations.\n",
    "\n",
    "data = [10, 20, 30, 40, 50]\n",
    "index = ['a', 'b', 'c', 'd', 'e']\n",
    "series = Series(data, index=index)\n",
    "\n",
    "series += 5\n",
    "print(series)"
   ]
  },
  {
   "cell_type": "code",
   "execution_count": 8,
   "id": "cda5f857",
   "metadata": {},
   "outputs": [
    {
     "data": {
      "text/plain": [
       "{'a': 10, 'b': 20, 'c': 30, 'd': 40, 'e': 50}"
      ]
     },
     "execution_count": 8,
     "metadata": {},
     "output_type": "execute_result"
    }
   ],
   "source": [
    "# Convert the Series into a Python dictionary and check its values.\n",
    "\n",
    "data = [10, 20, 30, 40, 50]\n",
    "index = ['a', 'b', 'c', 'd', 'e']\n",
    "series = Series(data, index=index)\n",
    "\n",
    "ser_dic = series.to_dict()\n",
    "ser_dic"
   ]
  },
  {
   "cell_type": "code",
   "execution_count": 9,
   "id": "a37010e1",
   "metadata": {},
   "outputs": [
    {
     "name": "stdout",
     "output_type": "stream",
     "text": [
      "a    10\n",
      "b    20\n",
      "c    30\n",
      "d    40\n",
      "e    50\n",
      "f    60\n",
      "dtype: int64\n"
     ]
    }
   ],
   "source": [
    "# Pass a dictionary to the Series constructor and assign the following keys and values:\n",
    "# {'a': 10, 'b': 20, 'c': 30, 'd': 40, 'e': 50, 'f': 60}\n",
    "\n",
    "data_dict = {'a': 10, 'b': 20, 'c': 30, 'd': 40, 'e': 50, 'f': 60}\n",
    "series = Series(data_dict)\n",
    "print(series)"
   ]
  },
  {
   "cell_type": "code",
   "execution_count": 10,
   "id": "e146e8e2",
   "metadata": {},
   "outputs": [
    {
     "name": "stdout",
     "output_type": "stream",
     "text": [
      "Null values:\n",
      "a    False\n",
      "b    False\n",
      "c    False\n",
      "d    False\n",
      "e    False\n",
      "dtype: bool\n",
      "\n",
      "Non-null values:\n",
      "a    True\n",
      "b    True\n",
      "c    True\n",
      "d    True\n",
      "e    True\n",
      "dtype: bool\n"
     ]
    }
   ],
   "source": [
    "# Check if any values in the Series are null or not null using isnull() and notnull() methods\n",
    "\n",
    "\n",
    "data = [10, 20, 30, 40, 50]\n",
    "index = ['a', 'b', 'c', 'd', 'e']\n",
    "series = Series(data, index=index)\n",
    "\n",
    "# Check for null values\n",
    "null_values = series.isnull()\n",
    "\n",
    "# Check for non-null values\n",
    "not_null_values = series.notnull()\n",
    "\n",
    "print(\"Null values:\")\n",
    "print(null_values)\n",
    "print()\n",
    "\n",
    "print(\"Non-null values:\")\n",
    "print(not_null_values)\n"
   ]
  },
  {
   "cell_type": "code",
   "execution_count": 11,
   "id": "27b3eb77",
   "metadata": {},
   "outputs": [
    {
     "name": "stdout",
     "output_type": "stream",
     "text": [
      "0    20\n",
      "1    30\n",
      "2    40\n",
      "3    50\n",
      "4    60\n",
      "dtype: int64\n"
     ]
    }
   ],
   "source": [
    "#  Create another Series using the following data: data2 = [20, 30, 40, 50, 60]\n",
    "\n",
    "data2 = [20, 30, 40, 50, 60]\n",
    "\n",
    "ser3 = Series(data2)\n",
    "print(ser3)"
   ]
  },
  {
   "cell_type": "code",
   "execution_count": 12,
   "id": "81435d21",
   "metadata": {
    "scrolled": true
   },
   "outputs": [
    {
     "name": "stdout",
     "output_type": "stream",
     "text": [
      "b    20\n",
      "c    30\n",
      "d    40\n",
      "e    50\n",
      "f    60\n",
      "dtype: int64\n"
     ]
    }
   ],
   "source": [
    "# Assign the following index labels to the second Series: index2 = ['b', 'c', 'd', 'e', 'f']\n",
    "\n",
    "data2 = [20, 30, 40, 50, 60]\n",
    "index2 = ['b', 'c', 'd', 'e', 'f']\n",
    "\n",
    "ser3 = Series(data2, index=index2)\n",
    "print(ser3)"
   ]
  },
  {
   "cell_type": "code",
   "execution_count": 16,
   "id": "a53d554e",
   "metadata": {},
   "outputs": [
    {
     "name": "stdout",
     "output_type": "stream",
     "text": [
      "a     30\n",
      "b     50\n",
      "c     70\n",
      "d     90\n",
      "e    110\n",
      "dtype: int64\n"
     ]
    }
   ],
   "source": [
    "# Add the two Series together and observe how pandas automatically aligns the data based on their index labels\n",
    "\n",
    "data1 = [10, 20, 30, 40, 50]\n",
    "index1 = ['a', 'b', 'c', 'd', 'e']\n",
    "series1 = Series(data1, index=index1)\n",
    "\n",
    "data2 = [20, 30, 40, 50, 60]\n",
    "index2 = ['a','b', 'c', 'd', 'e']\n",
    "series2 = Series(data2, index=index2)\n",
    "\n",
    "add_series = series1.add(series2, fill_value=0)\n",
    "print(add_series)"
   ]
  },
  {
   "cell_type": "code",
   "execution_count": 14,
   "id": "b1fbc447",
   "metadata": {},
   "outputs": [
    {
     "name": "stdout",
     "output_type": "stream",
     "text": [
      "[1 2 3 4 5]\n"
     ]
    }
   ],
   "source": [
    "#  Use the unique() method to find the unique values in the Series.\n",
    "\n",
    "series = pd.Series([1, 2, 2, 3, 3, 4, 5, 5])\n",
    "\n",
    "unique_values = series.unique()\n",
    "print(unique_values)"
   ]
  },
  {
   "cell_type": "code",
   "execution_count": 17,
   "id": "f5864de6",
   "metadata": {},
   "outputs": [
    {
     "name": "stdout",
     "output_type": "stream",
     "text": [
      "D    1\n",
      "B    2\n",
      "A    5\n",
      "C    8\n",
      "dtype: int64\n"
     ]
    }
   ],
   "source": [
    "# Use the sort_values() method to sort the Series in ascending order by value\n",
    "\n",
    "data = {'A': 5, 'B': 2, 'C': 8, 'D': 1}\n",
    "series = Series(data)\n",
    "\n",
    "sort_series = series.sort_values()\n",
    "print(sort_series)"
   ]
  },
  {
   "cell_type": "code",
   "execution_count": 18,
   "id": "39ba3c58",
   "metadata": {},
   "outputs": [
    {
     "name": "stdout",
     "output_type": "stream",
     "text": [
      "Series saved to 'series_data.txt'\n"
     ]
    }
   ],
   "source": [
    "# Save the Series to a text file using the to_csv() method.\n",
    "\n",
    "data = {'A': 5, 'B': 2, 'C': 8, 'D': 1}\n",
    "series = pd.Series(data)\n",
    "\n",
    "series.to_csv('series_data.txt', header=True)\n",
    "print(\"Series saved to 'series_data.txt'\")"
   ]
  }
 ],
 "metadata": {
  "kernelspec": {
   "display_name": "Python 3 (ipykernel)",
   "language": "python",
   "name": "python3"
  },
  "language_info": {
   "codemirror_mode": {
    "name": "ipython",
    "version": 3
   },
   "file_extension": ".py",
   "mimetype": "text/x-python",
   "name": "python",
   "nbconvert_exporter": "python",
   "pygments_lexer": "ipython3",
   "version": "3.9.13"
  }
 },
 "nbformat": 4,
 "nbformat_minor": 5
}
