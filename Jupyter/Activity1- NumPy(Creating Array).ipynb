{
 "cells": [
  {
   "cell_type": "code",
   "execution_count": 1,
   "id": "52eec59f",
   "metadata": {},
   "outputs": [],
   "source": [
    "import numpy as np"
   ]
  },
  {
   "cell_type": "code",
   "execution_count": 3,
   "id": "65683f53",
   "metadata": {},
   "outputs": [
    {
     "name": "stdout",
     "output_type": "stream",
     "text": [
      "Array from 0 to 9:\n",
      "[0 1 2 3 4 5 6 7 8 9]\n"
     ]
    }
   ],
   "source": [
    "# create a 1D NumPy array with the integers from 0 to 9.\n",
    "\n",
    "arr = np.arange(10)\n",
    "print(\"Array from 0 to 9:\")\n",
    "print(arr)"
   ]
  },
  {
   "cell_type": "code",
   "execution_count": 4,
   "id": "061e7845",
   "metadata": {},
   "outputs": [
    {
     "name": "stdout",
     "output_type": "stream",
     "text": [
      "[[0. 0. 0.]\n",
      " [0. 0. 0.]\n",
      " [0. 0. 0.]]\n"
     ]
    }
   ],
   "source": [
    "# create a 2D NumPy array with shape(3,3) and fill it with zeros.\n",
    "\n",
    "arr2 = np.zeros((3, 3))\n",
    "print(arr2)"
   ]
  },
  {
   "cell_type": "code",
   "execution_count": 6,
   "id": "f5e6aebd",
   "metadata": {},
   "outputs": [
    {
     "name": "stdout",
     "output_type": "stream",
     "text": [
      "[[[1. 1. 1. 1.]\n",
      "  [1. 1. 1. 1.]\n",
      "  [1. 1. 1. 1.]]\n",
      "\n",
      " [[1. 1. 1. 1.]\n",
      "  [1. 1. 1. 1.]\n",
      "  [1. 1. 1. 1.]]]\n"
     ]
    }
   ],
   "source": [
    "# create a 3D NumPy array with shape(2,3,4) and fill it with ones.\n",
    "\n",
    "arr3= np.ones((2,3,4))\n",
    "print(arr3)"
   ]
  },
  {
   "cell_type": "code",
   "execution_count": 7,
   "id": "d8f616e3",
   "metadata": {},
   "outputs": [
    {
     "name": "stdout",
     "output_type": "stream",
     "text": [
      "[31 55  0 32 12 11 71 45 85 60]\n"
     ]
    }
   ],
   "source": [
    "# create a NumPy array with 10 random integers between 0 and 100.\n",
    "\n",
    "arr4 = np.random.randint(low=0, high=100, size=10)\n",
    "print(arr4)"
   ]
  },
  {
   "cell_type": "code",
   "execution_count": 8,
   "id": "dde6d8a0",
   "metadata": {},
   "outputs": [
    {
     "name": "stdout",
     "output_type": "stream",
     "text": [
      "[0.80112171 0.97951308 0.89669511 0.26054446 0.21689564 0.82295167\n",
      " 0.95996278 0.60769018 0.00110624 0.24287476]\n"
     ]
    }
   ],
   "source": [
    "# create a NumPy array with 10 random floats between 0 and 1.\n",
    "\n",
    "arr5 = np.random.uniform(low=0, high=1, size=10)\n",
    "print(arr5)"
   ]
  },
  {
   "cell_type": "code",
   "execution_count": 10,
   "id": "c5f45bca",
   "metadata": {},
   "outputs": [
    {
     "name": "stdout",
     "output_type": "stream",
     "text": [
      "[0.   0.25 0.5  0.75 1.  ]\n"
     ]
    }
   ],
   "source": [
    "# create a NumPy array with 5 equally spaced values between 0 and 1. \n",
    "\n",
    "arr6 = np.linspace(0, 1, num=5)\n",
    "print(arr6)"
   ]
  },
  {
   "cell_type": "code",
   "execution_count": 11,
   "id": "b382126c",
   "metadata": {},
   "outputs": [
    {
     "name": "stdout",
     "output_type": "stream",
     "text": [
      "[ 0.   2.5  5.   7.5 10. ]\n"
     ]
    }
   ],
   "source": [
    "# create a NumPy array with 5 equally spaced values between 0 and 10. \n",
    "\n",
    "arr7 = np.linspace(0, 10, num=5)\n",
    "print(arr7)"
   ]
  },
  {
   "cell_type": "code",
   "execution_count": 12,
   "id": "dfbe5853",
   "metadata": {},
   "outputs": [
    {
     "name": "stdout",
     "output_type": "stream",
     "text": [
      "[-1.  -0.5  0.   0.5  1. ]\n"
     ]
    }
   ],
   "source": [
    "# create a NumPy array with 5 equally spaced values between -1 and 1. \n",
    "\n",
    "arr8 = np.linspace(-1, 1, num=5)\n",
    "print(arr8)"
   ]
  },
  {
   "cell_type": "code",
   "execution_count": 20,
   "id": "8849c896",
   "metadata": {},
   "outputs": [
    {
     "name": "stdout",
     "output_type": "stream",
     "text": [
      "[ 0.          0.98480775 -0.34202014 -0.8660254   0.64278761  0.64278761\n",
      " -0.8660254  -0.34202014]\n"
     ]
    }
   ],
   "source": [
    "# create a NumPy array with the sine values of angles between 0 and 2pi.\n",
    "arr9 = np.sin(np.arange(0,361,50)*2*np.pi/180)\n",
    "print(arr9)"
   ]
  },
  {
   "cell_type": "code",
   "execution_count": 21,
   "id": "be3f5e61",
   "metadata": {},
   "outputs": [
    {
     "name": "stdout",
     "output_type": "stream",
     "text": [
      "[ 1.          0.64278761 -0.17364818 -0.8660254  -0.93969262 -0.34202014\n",
      "  0.5         0.98480775]\n"
     ]
    }
   ],
   "source": [
    "# create a NumPy array with the cosine values of angles between 0 and pi.\n",
    "\n",
    "arr10 = np.cos(np.arange(0,361,50)*np.pi/180)\n",
    "print(arr10)"
   ]
  },
  {
   "cell_type": "code",
   "execution_count": null,
   "id": "fd4e9421",
   "metadata": {},
   "outputs": [],
   "source": []
  }
 ],
 "metadata": {
  "kernelspec": {
   "display_name": "Python 3 (ipykernel)",
   "language": "python",
   "name": "python3"
  },
  "language_info": {
   "codemirror_mode": {
    "name": "ipython",
    "version": 3
   },
   "file_extension": ".py",
   "mimetype": "text/x-python",
   "name": "python",
   "nbconvert_exporter": "python",
   "pygments_lexer": "ipython3",
   "version": "3.9.13"
  }
 },
 "nbformat": 4,
 "nbformat_minor": 5
}
