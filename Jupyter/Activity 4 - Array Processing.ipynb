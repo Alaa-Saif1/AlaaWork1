{
 "cells": [
  {
   "cell_type": "code",
   "execution_count": 1,
   "id": "d49f609a",
   "metadata": {},
   "outputs": [],
   "source": [
    "import numpy as np"
   ]
  },
  {
   "cell_type": "code",
   "execution_count": 2,
   "id": "33c1dd88",
   "metadata": {},
   "outputs": [
    {
     "name": "stdout",
     "output_type": "stream",
     "text": [
      "[91 88 97  6 78  3 24 45  9 24]\n"
     ]
    }
   ],
   "source": [
    "# Create a NumPy array with 10 random integers between 0 and 100.\n",
    "\n",
    "arr1 = np.random.randint(low=0, high=100, size=10)\n",
    "print(arr1)"
   ]
  },
  {
   "cell_type": "code",
   "execution_count": 5,
   "id": "25aa6ebd",
   "metadata": {},
   "outputs": [
    {
     "name": "stdout",
     "output_type": "stream",
     "text": [
      "[-1 -1  1  1 -1 -1 -1 -1 -1  1]\n"
     ]
    }
   ],
   "source": [
    "# Use the np.where() function to create a new array with the same shape as \n",
    "# the previous one,where values less than 50 are replaced with -1 and\n",
    "# values greater than or equal to 50 are replaced with 1.\n",
    "\n",
    "arr1 = np.random.randint(low=0, high=100, size=10)\n",
    "\n",
    "new_array = np.where(arr1 < 50, -1, 1)\n",
    "print(new_array)\n"
   ]
  },
  {
   "cell_type": "code",
   "execution_count": 7,
   "id": "a22b456e",
   "metadata": {},
   "outputs": [
    {
     "name": "stdout",
     "output_type": "stream",
     "text": [
      "Array:  [ 9 37 79 75 35  2 13 33 34 78]\n",
      "Mean:  39.5\n",
      "Median:  34.5\n",
      "Standard Deviation:  27.27727992304218\n"
     ]
    }
   ],
   "source": [
    "# Calculate the mean, median, and standard deviation of the original array.\n",
    "\n",
    "mean = np.mean(arr1)\n",
    "median = np.median(arr1)\n",
    "std_dev = np.std(arr1)\n",
    "\n",
    "print(\"Array: \", arr1)\n",
    "print(\"Mean: \", mean)\n",
    "print(\"Median: \", median)\n",
    "print(\"Standard Deviation: \", std_dev)"
   ]
  },
  {
   "cell_type": "code",
   "execution_count": 8,
   "id": "44060c28",
   "metadata": {},
   "outputs": [
    {
     "name": "stdout",
     "output_type": "stream",
     "text": [
      "Original array:  [ 9 37 79 75 35  2 13 33 34 78]\n",
      "Boolean array (Even numbers):  [False False False False False  True False False  True  True]\n"
     ]
    }
   ],
   "source": [
    "# Create a boolean array that is True where the values in the original\n",
    "# array are even, and False otherwise\n",
    "\n",
    "is_even = arr1 % 2 == 0\n",
    "\n",
    "print(\"Original array: \", arr1)\n",
    "print(\"Boolean array (Even numbers): \", is_even)"
   ]
  },
  {
   "cell_type": "code",
   "execution_count": 9,
   "id": "e248f656",
   "metadata": {},
   "outputs": [
    {
     "name": "stdout",
     "output_type": "stream",
     "text": [
      "Sorted array in ascending order:  [ 2  9 13 33 34 35 37 75 78 79]\n"
     ]
    }
   ],
   "source": [
    "# Sort the original array in ascending order.\n",
    "\n",
    "sorted_arr = np.sort(arr1)\n",
    "print(\"Sorted array in ascending order: \", sorted_arr)\n"
   ]
  },
  {
   "cell_type": "code",
   "execution_count": 10,
   "id": "4fd2dab5",
   "metadata": {},
   "outputs": [
    {
     "name": "stdout",
     "output_type": "stream",
     "text": [
      "The unique Value:  [ 2  9 13 33 34 35 37 75 78 79]\n"
     ]
    }
   ],
   "source": [
    "# Find the unique values in the original array.\n",
    "\n",
    "unique_arr = np.unique(arr1)\n",
    "print(\"The unique Value: \", unique_arr)"
   ]
  },
  {
   "cell_type": "code",
   "execution_count": 11,
   "id": "6dae5bc2",
   "metadata": {},
   "outputs": [
    {
     "name": "stdout",
     "output_type": "stream",
     "text": [
      "Original array:  [25 76 29 77 30 94 96 49 13 24]\n",
      "New array:  [75 68 81 58 92]\n",
      "Boolean array elements present:  [False False False False False False False False False False]\n"
     ]
    }
   ],
   "source": [
    "# Use the np.in1d() function to create a boolean array indicating which \n",
    "# elements of the original array are also present in a new array with\n",
    "# 5 random integers between 0 and 100.\n",
    "\n",
    "arr1 = np.random.randint(low=0, high=100, size=10)\n",
    "arr2 = np.random.randint(low=0, high=100, size=5)\n",
    "\n",
    "is_present = np.in1d(arr1, arr2)\n",
    "\n",
    "print(\"Original array: \", arr1)\n",
    "print(\"New array: \", arr2)\n",
    "print(\"Boolean array elements present: \", is_present)\n",
    "\n"
   ]
  },
  {
   "cell_type": "code",
   "execution_count": 12,
   "id": "a6fab2a0",
   "metadata": {},
   "outputs": [
    {
     "name": "stdout",
     "output_type": "stream",
     "text": [
      "Original array saved to my_array.txt\n"
     ]
    }
   ],
   "source": [
    "# Save the original array to a text file named \"my_array.txt\" using the \n",
    "# np.savetxt() function.\n",
    "\n",
    "np.savetxt(\"my_array.txt\", arr1)\n",
    "\n",
    "print(\"Original array saved to my_array.txt\")\n"
   ]
  },
  {
   "cell_type": "code",
   "execution_count": null,
   "id": "f0d0cb6f",
   "metadata": {},
   "outputs": [],
   "source": []
  }
 ],
 "metadata": {
  "kernelspec": {
   "display_name": "Python 3 (ipykernel)",
   "language": "python",
   "name": "python3"
  },
  "language_info": {
   "codemirror_mode": {
    "name": "ipython",
    "version": 3
   },
   "file_extension": ".py",
   "mimetype": "text/x-python",
   "name": "python",
   "nbconvert_exporter": "python",
   "pygments_lexer": "ipython3",
   "version": "3.9.13"
  }
 },
 "nbformat": 4,
 "nbformat_minor": 5
}
