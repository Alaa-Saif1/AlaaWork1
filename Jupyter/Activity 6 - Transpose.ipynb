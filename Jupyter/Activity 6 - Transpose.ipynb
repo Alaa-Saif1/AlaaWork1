{
 "cells": [
  {
   "cell_type": "code",
   "execution_count": 1,
   "id": "6e93beb1",
   "metadata": {},
   "outputs": [],
   "source": [
    "import numpy as np"
   ]
  },
  {
   "cell_type": "code",
   "execution_count": 2,
   "id": "5dc40d8c",
   "metadata": {},
   "outputs": [
    {
     "name": "stdout",
     "output_type": "stream",
     "text": [
      "Original Array:\n",
      "[[1 2 3]\n",
      " [4 5 6]]\n",
      "\n",
      "Transposed Array:\n",
      "[[1 4]\n",
      " [2 5]\n",
      " [3 6]]\n"
     ]
    }
   ],
   "source": [
    "# Create a 2x3 NumPy array and its transpose using the np.transpose() function.\n",
    "\n",
    "\n",
    "array_2x3 = np.array([[1, 2, 3], [4, 5, 6]])\n",
    "array_transposed = np.transpose(array_2x3)\n",
    "\n",
    "print(\"Original Array:\")\n",
    "print(array_2x3)\n",
    "\n",
    "print(\"\\nTransposed Array:\")\n",
    "print(array_transposed)"
   ]
  },
  {
   "cell_type": "code",
   "execution_count": 3,
   "id": "a47f1dd0",
   "metadata": {},
   "outputs": [
    {
     "name": "stdout",
     "output_type": "stream",
     "text": [
      "Original array:\n",
      " [[ 1  2  3  4]\n",
      " [ 5  6  7  8]\n",
      " [ 9 10 11 12]]\n",
      "\n",
      "Transposed array:\n",
      " [[ 1  5  9]\n",
      " [ 2  6 10]\n",
      " [ 3  7 11]\n",
      " [ 4  8 12]]\n"
     ]
    }
   ],
   "source": [
    "# Create a 3x4 NumPy array and its transpose using the np.transpose() function\n",
    "\n",
    "array1= np.array([[1, 2, 3, 4],\n",
    "                      [5, 6, 7, 8],\n",
    "                      [9, 10, 11, 12]])\n",
    "\n",
    "transposed_array = np.transpose(array1)\n",
    "\n",
    "print(\"Original array:\\n\", array1)\n",
    "print(\"\\nTransposed array:\\n\", transposed_array)"
   ]
  },
  {
   "cell_type": "code",
   "execution_count": 4,
   "id": "774a9903",
   "metadata": {},
   "outputs": [
    {
     "name": "stdout",
     "output_type": "stream",
     "text": [
      "Original array:\n",
      " [[ 1  2  3  4  5]\n",
      " [ 6  7  8  9 10]\n",
      " [11 12 13 14 15]\n",
      " [16 17 18 19 20]\n",
      " [21 22 23 24 25]]\n",
      "Transposed array:\n",
      " [[ 1  6 11 16 21]\n",
      " [ 2  7 12 17 22]\n",
      " [ 3  8 13 18 23]\n",
      " [ 4  9 14 19 24]\n",
      " [ 5 10 15 20 25]]\n"
     ]
    }
   ],
   "source": [
    "# Create a 5x5 NumPy array and its transpose using the np.transpose() function.\n",
    "\n",
    "array = np.array([[1, 2, 3, 4, 5],\n",
    "                  [6, 7, 8, 9, 10],\n",
    "                  [11, 12, 13, 14, 15],\n",
    "                  [16, 17, 18, 19, 20],\n",
    "                  [21, 22, 23, 24, 25]])\n",
    "\n",
    "transposed_array = np.transpose(array)\n",
    "\n",
    "print(\"Original array:\\n\", array)\n",
    "print(\"Transposed array:\\n\", transposed_array)"
   ]
  },
  {
   "cell_type": "code",
   "execution_count": 5,
   "id": "9798b468",
   "metadata": {},
   "outputs": [
    {
     "name": "stdout",
     "output_type": "stream",
     "text": [
      "Original Array:\n",
      "[[1 2]\n",
      " [3 4]]\n",
      "\n",
      "Transpose Array:\n",
      "[[1 3]\n",
      " [2 4]]\n",
      "\n",
      "Dot Product:\n",
      "[[ 5 11]\n",
      " [11 25]]\n"
     ]
    }
   ],
   "source": [
    "# Create a 2x2 NumPy array and its transpose using the np.transpose() function,\n",
    "# then calculate the dot product of the two arrays using the np.dot() function\n",
    "\n",
    "array = np.array([[1, 2], [3, 4]])\n",
    "\n",
    "transpose_array = np.transpose(array)\n",
    "dot_product = np.dot(array, transpose_array)\n",
    "\n",
    "print(\"Original Array:\")\n",
    "print(array)\n",
    "\n",
    "print(\"\\nTranspose Array:\")\n",
    "print(transpose_array)\n",
    "\n",
    "print(\"\\nDot Product:\")\n",
    "print(dot_product)"
   ]
  },
  {
   "cell_type": "code",
   "execution_count": null,
   "id": "5465fa79",
   "metadata": {},
   "outputs": [],
   "source": []
  }
 ],
 "metadata": {
  "kernelspec": {
   "display_name": "Python 3 (ipykernel)",
   "language": "python",
   "name": "python3"
  },
  "language_info": {
   "codemirror_mode": {
    "name": "ipython",
    "version": 3
   },
   "file_extension": ".py",
   "mimetype": "text/x-python",
   "name": "python",
   "nbconvert_exporter": "python",
   "pygments_lexer": "ipython3",
   "version": "3.9.13"
  }
 },
 "nbformat": 4,
 "nbformat_minor": 5
}
