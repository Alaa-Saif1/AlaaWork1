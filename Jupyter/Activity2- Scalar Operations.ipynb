{
 "cells": [
  {
   "cell_type": "code",
   "execution_count": 2,
   "id": "a0627eae",
   "metadata": {},
   "outputs": [],
   "source": [
    "import numpy as np"
   ]
  },
  {
   "cell_type": "code",
   "execution_count": 19,
   "id": "55b485df",
   "metadata": {},
   "outputs": [
    {
     "name": "stdout",
     "output_type": "stream",
     "text": [
      "[[0 1]\n",
      " [2 3]]\n",
      "\n",
      "\n",
      "[[0 2]\n",
      " [4 6]]\n"
     ]
    }
   ],
   "source": [
    "# create a 2x2 NumPy array and multiply it by 2.\n",
    "\n",
    "arr1 = np.arange(4).reshape(2,2)\n",
    "print(arr1)\n",
    "print('\\n')\n",
    "\n",
    "mult = arr1*2\n",
    "print(mult)"
   ]
  },
  {
   "cell_type": "code",
   "execution_count": 21,
   "id": "dde86c5d",
   "metadata": {},
   "outputs": [
    {
     "name": "stdout",
     "output_type": "stream",
     "text": [
      "[[1 2 3]\n",
      " [4 5 6]\n",
      " [7 8 9]]\n",
      "\n",
      "\n",
      "[[ 6  7  8]\n",
      " [ 9 10 11]\n",
      " [12 13 14]]\n"
     ]
    }
   ],
   "source": [
    "# create a 3x3 NumPy array and add 5 to each element.\n",
    "\n",
    "arr1 = np.arange(1,10).reshape(3,3)\n",
    "print(arr1)\n",
    "print('\\n')\n",
    "\n",
    "add = arr1+5\n",
    "print(add)"
   ]
  },
  {
   "cell_type": "code",
   "execution_count": 31,
   "id": "7d81ff0e",
   "metadata": {},
   "outputs": [
    {
     "name": "stdout",
     "output_type": "stream",
     "text": [
      "[[ 1  2  3  4]\n",
      " [ 5  6  7  8]\n",
      " [ 9 10 11 12]\n",
      " [13 14 15 16]]\n",
      "\n",
      "\n",
      "\n",
      "Mean of each row:\n",
      "[[ 2.5]\n",
      " [ 6.5]\n",
      " [10.5]\n",
      " [14.5]]\n",
      "\n",
      "Subtract the mean of each row from each element:\n",
      "[[-1.5 -0.5  0.5  1.5]\n",
      " [-1.5 -0.5  0.5  1.5]\n",
      " [-1.5 -0.5  0.5  1.5]\n",
      " [-1.5 -0.5  0.5  1.5]]\n"
     ]
    }
   ],
   "source": [
    "# create a 4x4 NumPy array and subtract to each element.\n",
    "\n",
    "arr1 = np.arange(1,17).reshape(4,4)\n",
    "print(arr1)\n",
    "print('\\n')\n",
    "\n",
    "row_means = np.mean(arr1, axis=1, keepdims=True)\n",
    "print(\"\\nMean of each row:\")\n",
    "print(row_means)\n",
    "\n",
    "arr_subtracted = arr1 - row_means\n",
    "print(\"\\nSubtract the mean of each row from each element:\")\n",
    "print(arr_subtracted)"
   ]
  },
  {
   "cell_type": "code",
   "execution_count": 34,
   "id": "9a506b6f",
   "metadata": {},
   "outputs": [
    {
     "name": "stdout",
     "output_type": "stream",
     "text": [
      "[[ 1  2  3  4  5]\n",
      " [ 6  7  8  9 10]\n",
      " [11 12 13 14 15]\n",
      " [16 17 18 19 20]\n",
      " [21 22 23 24 25]]\n",
      "\n",
      "\n",
      "[[ 0.5  1.   1.5  2.   2.5]\n",
      " [ 3.   3.5  4.   4.5  5. ]\n",
      " [ 5.5  6.   6.5  7.   7.5]\n",
      " [ 8.   8.5  9.   9.5 10. ]\n",
      " [10.5 11.  11.5 12.  12.5]]\n"
     ]
    }
   ],
   "source": [
    "# create a 5x5 NumPy array and divide each element by 2.\n",
    "\n",
    "arr1 = np.arange(1,26).reshape(5,5)\n",
    "print(arr1)\n",
    "print('\\n')\n",
    "\n",
    "divi = arr1/2\n",
    "print(divi)"
   ]
  },
  {
   "cell_type": "code",
   "execution_count": 36,
   "id": "464f630f",
   "metadata": {},
   "outputs": [
    {
     "name": "stdout",
     "output_type": "stream",
     "text": [
      "[[ 1  2  3  4  5  6]\n",
      " [ 7  8  9 10 11 12]\n",
      " [13 14 15 16 17 18]\n",
      " [19 20 21 22 23 24]\n",
      " [25 26 27 28 29 30]\n",
      " [31 32 33 34 35 36]]\n",
      "\n",
      "\n",
      "[[1.         1.41421356 1.73205081 2.         2.23606798 2.44948974]\n",
      " [2.64575131 2.82842712 3.         3.16227766 3.31662479 3.46410162]\n",
      " [3.60555128 3.74165739 3.87298335 4.         4.12310563 4.24264069]\n",
      " [4.35889894 4.47213595 4.58257569 4.69041576 4.79583152 4.89897949]\n",
      " [5.         5.09901951 5.19615242 5.29150262 5.38516481 5.47722558]\n",
      " [5.56776436 5.65685425 5.74456265 5.83095189 5.91607978 6.        ]]\n"
     ]
    }
   ],
   "source": [
    "# create a 6x6 NumPy array and calculate the square root of each element.\n",
    "\n",
    "arr1 = np.arange(1,37).reshape(6,6)\n",
    "print(arr1)\n",
    "print('\\n')\n",
    "\n",
    "sqrt1 = np.sqrt(arr1)\n",
    "print(sqrt1)"
   ]
  },
  {
   "cell_type": "code",
   "execution_count": null,
   "id": "80f2f59e",
   "metadata": {},
   "outputs": [],
   "source": []
  }
 ],
 "metadata": {
  "kernelspec": {
   "display_name": "Python 3 (ipykernel)",
   "language": "python",
   "name": "python3"
  },
  "language_info": {
   "codemirror_mode": {
    "name": "ipython",
    "version": 3
   },
   "file_extension": ".py",
   "mimetype": "text/x-python",
   "name": "python",
   "nbconvert_exporter": "python",
   "pygments_lexer": "ipython3",
   "version": "3.9.13"
  }
 },
 "nbformat": 4,
 "nbformat_minor": 5
}
