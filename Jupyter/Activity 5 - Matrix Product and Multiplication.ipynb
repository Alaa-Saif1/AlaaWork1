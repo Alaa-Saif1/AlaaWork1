{
 "cells": [
  {
   "cell_type": "code",
   "execution_count": 1,
   "id": "dc824184",
   "metadata": {},
   "outputs": [],
   "source": [
    "import numpy as np"
   ]
  },
  {
   "cell_type": "code",
   "execution_count": 2,
   "id": "9e654fb8",
   "metadata": {},
   "outputs": [
    {
     "name": "stdout",
     "output_type": "stream",
     "text": [
      "First array:\n",
      "[[1 2]\n",
      " [3 4]]\n",
      "\n",
      "Second array:\n",
      "[[5 6]\n",
      " [7 8]]\n",
      "\n",
      "Product of the two arrays:\n",
      "[[19 22]\n",
      " [43 50]]\n"
     ]
    }
   ],
   "source": [
    "# Create two 2x2 NumPy arrays and calculate their product using the np.\n",
    "# matmul() function\n",
    "\n",
    "array1 = np.array([[1, 2], [3, 4]])\n",
    "array2 = np.array([[5, 6], [7, 8]])\n",
    "\n",
    "product = np.matmul(array1, array2)\n",
    "\n",
    "print(\"First array:\")\n",
    "print(array1)\n",
    "print()\n",
    "\n",
    "print(\"Second array:\")\n",
    "print(array2)\n",
    "print()\n",
    "\n",
    "print(\"Product of the two arrays:\")\n",
    "print(product)"
   ]
  },
  {
   "cell_type": "code",
   "execution_count": 4,
   "id": "04d41cff",
   "metadata": {},
   "outputs": [
    {
     "name": "stdout",
     "output_type": "stream",
     "text": [
      "First array:\n",
      "[[1 2 3]\n",
      " [4 5 6]\n",
      " [7 8 9]]\n",
      "\n",
      "Second array:\n",
      "[[10 11 12]\n",
      " [13 14 15]\n",
      " [16 17 18]]\n",
      "\n",
      "Product of the two arrays:\n",
      "[[ 84  90  96]\n",
      " [201 216 231]\n",
      " [318 342 366]]\n"
     ]
    }
   ],
   "source": [
    "# Create two 3x3 NumPy arrays and calculate their product using the \n",
    "# np.dot() function.\n",
    "\n",
    "array1 = np.array([[1, 2,3], [4 , 5, 6],[7, 8, 9]])\n",
    "array2 = np.array([[10, 11, 12], [13, 14, 15],[16, 17, 18]])\n",
    "\n",
    "product = np.dot(array1, array2)\n",
    "\n",
    "print(\"First array:\")\n",
    "print(array1)\n",
    "print()\n",
    "\n",
    "print(\"Second array:\")\n",
    "print(array2)\n",
    "print()\n",
    "\n",
    "print(\"Product of the two arrays:\")\n",
    "print(product)"
   ]
  },
  {
   "cell_type": "code",
   "execution_count": 5,
   "id": "dc667338",
   "metadata": {},
   "outputs": [
    {
     "name": "stdout",
     "output_type": "stream",
     "text": [
      "[[ 58  64]\n",
      " [139 154]]\n"
     ]
    }
   ],
   "source": [
    "# Create a 2x3 NumPy array and a 3x2 NumPy array, and calculate their\n",
    "# product using the np.matmul() function.\n",
    "\n",
    "\n",
    "array1 = np.array([[1, 2, 3],\n",
    "                   [4, 5, 6]])\n",
    "\n",
    "array2 = np.array([[7, 8],\n",
    "                   [9, 10],\n",
    "                   [11, 12]])\n",
    "\n",
    "\n",
    "product = np.matmul(array1, array2)\n",
    "print(product)\n"
   ]
  },
  {
   "cell_type": "code",
   "execution_count": 6,
   "id": "cc96be8e",
   "metadata": {},
   "outputs": [
    {
     "name": "stdout",
     "output_type": "stream",
     "text": [
      "[[ 27  30  33]\n",
      " [ 61  68  75]\n",
      " [ 95 106 117]]\n"
     ]
    }
   ],
   "source": [
    "# Create a 3x2 NumPy array and a 2x3 NumPy array, and calculate\n",
    "# their product using the np.dot() function\n",
    "\n",
    "array1 = np.array([[1, 2],\n",
    "                   [3, 4],\n",
    "                   [5, 6]])\n",
    "\n",
    "\n",
    "array2 = np.array([[7, 8, 9],\n",
    "                   [10, 11, 12]])\n",
    "\n",
    "product = np.dot(array1, array2)\n",
    "print(product)\n"
   ]
  },
  {
   "cell_type": "code",
   "execution_count": 7,
   "id": "b3b82ad7",
   "metadata": {},
   "outputs": [
    {
     "name": "stdout",
     "output_type": "stream",
     "text": [
      "Original Array:\n",
      "[[ 1  2  3  4]\n",
      " [ 5  6  7  8]\n",
      " [ 9 10 11 12]\n",
      " [13 14 15 16]]\n",
      "\n",
      "Transpose of the Array:\n",
      "[[ 1  5  9 13]\n",
      " [ 2  6 10 14]\n",
      " [ 3  7 11 15]\n",
      " [ 4  8 12 16]]\n",
      "\n",
      "Product of the Array and its Transpose:\n",
      "[[ 30  70 110 150]\n",
      " [ 70 174 278 382]\n",
      " [110 278 446 614]\n",
      " [150 382 614 846]]\n"
     ]
    }
   ],
   "source": [
    "# Create a 4x4 NumPy array and its transpose using the np.transpose() function,\n",
    "# then calculate their product using the np.matmul() function.\n",
    "\n",
    "arr = np.array([[1, 2, 3, 4],\n",
    "                [5, 6, 7, 8],\n",
    "                [9, 10, 11, 12],\n",
    "                [13, 14, 15, 16]])\n",
    "\n",
    "arr_transposed = np.transpose(arr)\n",
    "product = np.matmul(arr, arr_transposed)\n",
    "\n",
    "print(\"Original Array:\")\n",
    "print(arr)\n",
    "print(\"\\nTranspose of the Array:\")\n",
    "print(arr_transposed)\n",
    "print(\"\\nProduct of the Array and its Transpose:\")\n",
    "print(product)\n",
    "\n"
   ]
  },
  {
   "cell_type": "code",
   "execution_count": null,
   "id": "dd28374e",
   "metadata": {},
   "outputs": [],
   "source": []
  }
 ],
 "metadata": {
  "kernelspec": {
   "display_name": "Python 3 (ipykernel)",
   "language": "python",
   "name": "python3"
  },
  "language_info": {
   "codemirror_mode": {
    "name": "ipython",
    "version": 3
   },
   "file_extension": ".py",
   "mimetype": "text/x-python",
   "name": "python",
   "nbconvert_exporter": "python",
   "pygments_lexer": "ipython3",
   "version": "3.9.13"
  }
 },
 "nbformat": 4,
 "nbformat_minor": 5
}
