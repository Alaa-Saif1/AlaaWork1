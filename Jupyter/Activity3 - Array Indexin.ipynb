{
 "cells": [
  {
   "cell_type": "code",
   "execution_count": 4,
   "id": "7393d6c7",
   "metadata": {},
   "outputs": [],
   "source": [
    "import numpy as np"
   ]
  },
  {
   "cell_type": "code",
   "execution_count": 6,
   "id": "d101ee60",
   "metadata": {},
   "outputs": [
    {
     "name": "stdout",
     "output_type": "stream",
     "text": [
      "[0 1 2 3 4 5 6 7 8 9]\n",
      "\n",
      "\n",
      "\n",
      "the 3rd element from the array is: \n",
      "2\n"
     ]
    }
   ],
   "source": [
    "# Create a 1D NumPy array with the integers from 0 to 9.\n",
    "#Extract the 3rd element from the array.\n",
    "\n",
    "arr1 = np.arange(0,10)\n",
    "print(arr1)\n",
    "print('\\n')\n",
    "\n",
    "x= arr1[2]\n",
    "print('\\nthe 3rd element from the array is: ')\n",
    "print(x)"
   ]
  },
  {
   "cell_type": "code",
   "execution_count": 14,
   "id": "6cf2f04d",
   "metadata": {},
   "outputs": [
    {
     "name": "stdout",
     "output_type": "stream",
     "text": [
      "Random set of rows from 2D array array:\n",
      "[[0 1 1]\n",
      " [0 4 3]\n",
      " [4 4 4]]\n",
      "\n",
      "\n",
      "\n",
      "the Extract element at row 2, column 1 is: \n",
      "4\n"
     ]
    }
   ],
   "source": [
    "# Create a 2D NumPy array with shape (3, 3) and fill it with random numbers.\n",
    "# Extract the element at row 2, column 1\n",
    "\n",
    "a = np.random.randint(5, size=(3,3))\n",
    "print(\"Random set of rows from 2D array array:\")\n",
    "print(a)\n",
    "print('\\n')\n",
    "\n",
    "x = a[2,0]\n",
    "print('\\nthe Extract element at row 2, column 1 is: ')\n",
    "print(x)"
   ]
  },
  {
   "cell_type": "code",
   "execution_count": 28,
   "id": "e0b3cbfe",
   "metadata": {},
   "outputs": [
    {
     "name": "stdout",
     "output_type": "stream",
     "text": [
      "Random set of rows from 2D array array:\n",
      "[[0 2 1 0]\n",
      " [1 3 2 3]\n",
      " [3 3 4 0]\n",
      " [3 0 1 1]]\n",
      "\n",
      "\n",
      "\n",
      "the Extract subarray consisting of the first 2 rows and the last 2 columns is: \n",
      "[[1 0]\n",
      " [2 3]]\n"
     ]
    }
   ],
   "source": [
    "#Create a 2D NumPy array with shape (4, 4) and fill it with random numbers.\n",
    "#Extract the subarray consisting of the first 2 rows and the last 2 columns.\n",
    "\n",
    "a = np.random.randint(5, size=(4,4))\n",
    "print(\"Random set of rows from 2D array array:\")\n",
    "print(a)\n",
    "print('\\n')\n",
    "\n",
    "x = a[:2, 2::]\n",
    "print('\\nthe Extract subarray consisting of the first 2 rows and the last 2 columns is: ')\n",
    "print(x)\n"
   ]
  },
  {
   "cell_type": "code",
   "execution_count": 34,
   "id": "c8e7a1a1",
   "metadata": {},
   "outputs": [
    {
     "name": "stdout",
     "output_type": "stream",
     "text": [
      "[0 1 2 3 4 5 6 7 8 9]\n",
      "\n",
      "\n",
      "[0 1 2]\n"
     ]
    }
   ],
   "source": [
    "# Create a 1D NumPy array with the integers from 0 to 9. \n",
    "# Copy a slice of the array consisting of the first 3 elements.\n",
    "\n",
    "arr1 = np.arange(0,10)\n",
    "print(arr1)\n",
    "print('\\n')\n",
    "\n",
    "arr_copy = arr1[:3].copy()\n",
    "print(arr_copy)"
   ]
  },
  {
   "cell_type": "code",
   "execution_count": 42,
   "id": "782d82c1",
   "metadata": {},
   "outputs": [
    {
     "name": "stdout",
     "output_type": "stream",
     "text": [
      "Random set of rows from 2D array array:\n",
      "[[0 3 3]\n",
      " [3 1 1]\n",
      " [4 1 4]]\n",
      "\n",
      "\n",
      "[[0 3]\n",
      " [3 1]]\n"
     ]
    }
   ],
   "source": [
    "# Create a 2D NumPy array with shape (3, 3) and fill it with random numbers.\n",
    "# Copy a slice of the array consisting of the first 2 rows and the first 2 columns\n",
    "\n",
    "a = np.random.randint(5, size=(3,3))\n",
    "print(\"Random set of rows from 2D array array:\")\n",
    "print(a)\n",
    "print('\\n')\n",
    "\n",
    "arr_copy = a[:2,:2].copy()\n",
    "print(arr_copy)"
   ]
  },
  {
   "cell_type": "code",
   "execution_count": 3,
   "id": "658f5dd4",
   "metadata": {},
   "outputs": [
    {
     "name": "stdout",
     "output_type": "stream",
     "text": [
      "[0 1 2 3 4 5 6 7 8]\n",
      "\n",
      "\n",
      "After reshaping:\n",
      "[[0 1 2]\n",
      " [3 4 5]\n",
      " [6 7 8]]\n"
     ]
    }
   ],
   "source": [
    "# Create a 1D NumPy array with the integers from 0 to 9.\n",
    "# Reshape the array into a 2D array with shape (3, 3).\n",
    "\n",
    "arr1 = np.arange(0,9)\n",
    "print(arr1)\n",
    "print('\\n')\n",
    "\n",
    "arr2 = arr1.reshape(3,3)\n",
    "print ('After reshaping:')\n",
    "print (arr2)"
   ]
  },
  {
   "cell_type": "code",
   "execution_count": 6,
   "id": "e70bc088",
   "metadata": {},
   "outputs": [
    {
     "name": "stdout",
     "output_type": "stream",
     "text": [
      "Random set of rows from 2D array array:\n",
      "[[1 3 1 1]\n",
      " [2 1 2 3]\n",
      " [4 3 0 4]\n",
      " [1 1 4 2]]\n",
      "\n",
      "\n",
      "After reshaping:\n",
      "[1 3 1 1 2 1 2 3 4 3 0 4 1 1 4 2]\n"
     ]
    }
   ],
   "source": [
    "# Create a 2D NumPy array with shape (4, 4) and fill it with random numbers\n",
    "# Reshape the array into a 1D array\n",
    "\n",
    "a = np.random.randint(5, size=(4,4))\n",
    "print(\"Random set of rows from 2D array array:\")\n",
    "print(a)\n",
    "print('\\n')\n",
    "\n",
    "arr2 = np.ravel(a)\n",
    "print ('After reshaping:')\n",
    "print (arr2)"
   ]
  },
  {
   "cell_type": "code",
   "execution_count": 9,
   "id": "0918767b",
   "metadata": {},
   "outputs": [
    {
     "name": "stdout",
     "output_type": "stream",
     "text": [
      "[0 1 2 3 4]\n",
      "\n",
      "\n",
      "After concatenating:\n",
      "[0 1 2 3 4 1 3 1 1 2 1 2 3 4 3 0 4 1 1 4 2]\n"
     ]
    }
   ],
   "source": [
    "# Create two 1D NumPy arrays with the integers from 0 to 4. \n",
    "# Concatenate the two arrays into a single 1D array.\n",
    "\n",
    "arr1 = np.arange(0,5)\n",
    "print(arr1)\n",
    "print('\\n')\n",
    "\n",
    "con = np.concatenate((arr1, arr2))\n",
    "print ('After concatenating:')\n",
    "print(con)"
   ]
  },
  {
   "cell_type": "code",
   "execution_count": 18,
   "id": "9fd3c90b",
   "metadata": {},
   "outputs": [
    {
     "name": "stdout",
     "output_type": "stream",
     "text": [
      "[[1 2]\n",
      " [3 4]]\n",
      "\n",
      "\n",
      "[[1 2 3]\n",
      " [4 5 6]]\n",
      "\n",
      "\n",
      "After concatenating horizontally:\n",
      "[[1 2 1 2 3]\n",
      " [3 4 4 5 6]]\n"
     ]
    }
   ],
   "source": [
    "# Create two 2D NumPy arrays with shapes (2, 2) and (2, 3). \n",
    "# Concatenate the two arrays horizontally\n",
    "\n",
    "arr1 = np.array([[1, 2], [3,4]])\n",
    "print(arr1)\n",
    "print('\\n')\n",
    "\n",
    "arr2 = np.array([[1, 2, 3], [4,5,6]])\n",
    "print(arr2)\n",
    "print('\\n')\n",
    "\n",
    "arr3 = np.hstack((arr1,arr2))\n",
    "print ('After concatenating horizontally:')\n",
    "print(arr3)"
   ]
  },
  {
   "cell_type": "code",
   "execution_count": 17,
   "id": "33a816f3",
   "metadata": {},
   "outputs": [
    {
     "name": "stdout",
     "output_type": "stream",
     "text": [
      "[[1 2]\n",
      " [3 4]]\n",
      "\n",
      "\n",
      "[[1 2]\n",
      " [3 4]\n",
      " [5 6]]\n",
      "\n",
      "\n",
      "After concatenating vertically:\n",
      "[[1 2]\n",
      " [3 4]\n",
      " [1 2]\n",
      " [3 4]\n",
      " [5 6]]\n"
     ]
    }
   ],
   "source": [
    "# Create two 2D NumPy arrays with shapes (2, 2) and (3, 2).\n",
    "#Concatenate the two arrays vertically.\n",
    "\n",
    "arr1 = np.array([[1, 2], [3,4]])\n",
    "print(arr1)\n",
    "print('\\n')\n",
    "\n",
    "arr2 = np.array([[1, 2], [3, 4],[5, 6]])\n",
    "print(arr2)\n",
    "print('\\n')\n",
    "\n",
    "arr3 = np.vstack((arr1,arr2))\n",
    "print ('After concatenating vertically:')\n",
    "print(arr3)"
   ]
  },
  {
   "cell_type": "code",
   "execution_count": 23,
   "id": "933810cc",
   "metadata": {},
   "outputs": [
    {
     "name": "stdout",
     "output_type": "stream",
     "text": [
      "Split the array into two equal horizontal halves:\n",
      "[[3 1 4 4]\n",
      " [2 1 2 1]\n",
      " [1 4 1 1]\n",
      " [1 0 3 4]]\n",
      "\n",
      "\n",
      "[array([[3],\n",
      "       [2],\n",
      "       [1],\n",
      "       [1]]), array([[1],\n",
      "       [1],\n",
      "       [4],\n",
      "       [0]]), array([[4],\n",
      "       [2],\n",
      "       [1],\n",
      "       [3]]), array([[4],\n",
      "       [1],\n",
      "       [1],\n",
      "       [4]])]\n"
     ]
    }
   ],
   "source": [
    "# Create a 2D NumPy array with shape (4, 4) and fill it with random numbers.\n",
    "# Split the array into two equal horizontal halves.\n",
    "\n",
    "arr1 = np.random.randint(5, size=(4,4))\n",
    "print(\"Split the array into two equal horizontal halves:\")\n",
    "print(arr1)\n",
    "print('\\n')\n",
    "\n",
    "arr2 = np.hsplit(arr1,4) \n",
    "print(arr2)\n"
   ]
  },
  {
   "cell_type": "code",
   "execution_count": 24,
   "id": "c1666292",
   "metadata": {},
   "outputs": [
    {
     "name": "stdout",
     "output_type": "stream",
     "text": [
      "Random set of rows from 2D array array:\n",
      "[[3 1 0 2]\n",
      " [3 2 2 1]\n",
      " [2 0 1 1]\n",
      " [0 4 3 2]]\n",
      "\n",
      "\n",
      "Split the array into two equal vertical halves:\n",
      "[array([[3, 1, 0, 2]]), array([[3, 2, 2, 1]]), array([[2, 0, 1, 1]]), array([[0, 4, 3, 2]])]\n"
     ]
    }
   ],
   "source": [
    "# Create a 2D NumPy array with shape (4, 4) and fill it with random numbers.\n",
    "# Split the array into two equal vertical halves\n",
    "\n",
    "arr1 = np.random.randint(5, size=(4,4))\n",
    "print(\"Random set of rows from 2D array array:\")\n",
    "print(arr1)\n",
    "print('\\n')\n",
    "\n",
    "arr2 = np.vsplit(arr1,4)\n",
    "print ('Split the array into two equal vertical halves:')\n",
    "print(arr2)"
   ]
  },
  {
   "cell_type": "code",
   "execution_count": 25,
   "id": "f5556a42",
   "metadata": {},
   "outputs": [
    {
     "name": "stdout",
     "output_type": "stream",
     "text": [
      "Random set of rows from 2D array array:\n",
      "[[2 2 3 1]\n",
      " [0 0 1 1]\n",
      " [1 4 2 0]\n",
      " [4 0 1 1]]\n",
      "\n",
      "\n",
      "Split the array into four equal subarrays:\n",
      "[array([[2, 2, 3, 1]]), array([[0, 0, 1, 1]]), array([[1, 4, 2, 0]]), array([[4, 0, 1, 1]])]\n"
     ]
    }
   ],
   "source": [
    "# Create a 2D NumPy array with shape (4, 4) and fill it with random numbers.\n",
    "# Split the array into four equal subarrays\n",
    "\n",
    "arr1 = np.random.randint(5, size=(4,4))\n",
    "print(\"Random set of rows from 2D array array:\")\n",
    "print(arr1)\n",
    "print('\\n')\n",
    "\n",
    "arr2 = np.split(arr1,4) \n",
    "print ('Split the array into four equal subarrays:')\n",
    "print(arr2)"
   ]
  },
  {
   "cell_type": "code",
   "execution_count": 31,
   "id": "8fe17ee7",
   "metadata": {},
   "outputs": [
    {
     "name": "stdout",
     "output_type": "stream",
     "text": [
      "[0 0 2 0 4 0 6 0 8 0]\n"
     ]
    }
   ],
   "source": [
    "# Create a 1D NumPy array with the integers from 0 to 9.\n",
    "# Set all odd elements of the array to zero using array indexing.\n",
    "\n",
    "arr = np.arange(10)\n",
    "arr[arr % 2 != 0] = 0\n",
    "print(arr)\n"
   ]
  },
  {
   "cell_type": "code",
   "execution_count": 32,
   "id": "61d6fcb4",
   "metadata": {},
   "outputs": [
    {
     "name": "stdout",
     "output_type": "stream",
     "text": [
      "[[0.         0.         0.        ]\n",
      " [0.2170412  0.34495326 0.25585693]\n",
      " [0.32628355 0.84948633 0.73624582]]\n"
     ]
    }
   ],
   "source": [
    "# Create a 2D NumPy array with shape (3, 3) and fill it with random numbers.\n",
    "# Set all elements of the first row to zero using array indexing\n",
    "\n",
    "arr = np.random.random((3, 3))\n",
    "arr[0, :] = 0\n",
    "print(arr)\n"
   ]
  },
  {
   "cell_type": "code",
   "execution_count": 33,
   "id": "578e1317",
   "metadata": {},
   "outputs": [
    {
     "name": "stdout",
     "output_type": "stream",
     "text": [
      "[[0.39785793 0.47522062 0.        ]\n",
      " [0.23694123 0.39204548 0.        ]\n",
      " [0.43686316 0.99553988 0.        ]]\n"
     ]
    }
   ],
   "source": [
    "# Create a 2D NumPy array with shape (3, 3) and fill it with random numbers.\n",
    "# Set all elements of the last column to zero using array indexing\n",
    "\n",
    "arr = np.random.random((3, 3))\n",
    "arr[:, -1] = 0\n",
    "print(arr)"
   ]
  },
  {
   "cell_type": "code",
   "execution_count": 35,
   "id": "a986f73c",
   "metadata": {},
   "outputs": [
    {
     "name": "stdout",
     "output_type": "stream",
     "text": [
      "Original array:\n",
      "[[0.69246568 0.09597021 0.82938328]\n",
      " [0.40483705 0.84690112 0.799734  ]\n",
      " [0.51634192 0.60556476 0.07833466]]\n",
      "\n",
      "\n",
      "\n",
      "Array with modified elements:\n",
      "[[0.69246568 0.         0.        ]\n",
      " [0.40483705 0.         0.        ]\n",
      " [0.51634192 0.60556476 0.07833466]]\n"
     ]
    }
   ],
   "source": [
    "# Create a 2D NumPy array with shape (3, 3) and fill it with random numbers.\n",
    "# Set all elements in the subarray consisting of the first 2 rows and\n",
    "# the last 2 columns to zero using array indexing.\n",
    "\n",
    "arr = np.random.random((3, 3))\n",
    "print(\"Original array:\")\n",
    "print(arr)\n",
    "print(\"\\n\")\n",
    "\n",
    "arr[:2, -2:] = 0\n",
    "print(\"\\nArray with modified elements:\")\n",
    "print(arr)\n"
   ]
  },
  {
   "cell_type": "code",
   "execution_count": 36,
   "id": "76cbd52b",
   "metadata": {},
   "outputs": [
    {
     "name": "stdout",
     "output_type": "stream",
     "text": [
      "Original array:\n",
      "[0 1 2 3 4 5 6 7 8 9]\n",
      "\n",
      "Modified copy:\n",
      "[ 0  2  4  6  8 10 12 14 16 18]\n"
     ]
    }
   ],
   "source": [
    "# Create a 1D NumPy array with the integers from 0 to 9.\n",
    "# Copy the entire array and modify the copy so that all elements\n",
    "# are multiplied by 2.\n",
    "\n",
    "arr = np.arange(10)\n",
    "print(\"Original array:\")\n",
    "print(arr)\n",
    "\n",
    "arr_copy = arr.copy()\n",
    "arr_copy *= 2\n",
    "print(\"\\nModified copy:\")\n",
    "print(arr_copy)\n"
   ]
  },
  {
   "cell_type": "code",
   "execution_count": 37,
   "id": "43c3f640",
   "metadata": {},
   "outputs": [
    {
     "name": "stdout",
     "output_type": "stream",
     "text": [
      "Original array:\n",
      "[[0.36762696 0.76340051 0.03041838]\n",
      " [0.14287748 0.13860138 0.86343762]\n",
      " [0.3487974  0.61246683 0.90878469]]\n",
      "\n",
      "Modified copy:\n",
      "[[1.36762696 1.76340051 1.03041838]\n",
      " [1.14287748 1.13860138 1.86343762]\n",
      " [1.3487974  1.61246683 1.90878469]]\n"
     ]
    }
   ],
   "source": [
    "# Create a 2D NumPy array with shape (3, 3) and fill it with random numbers.\n",
    "# Copy the entirearray and modify the copy so that all elements are added by 1.\n",
    "\n",
    "arr = np.random.random((3, 3))\n",
    "print(\"Original array:\")\n",
    "print(arr)\n",
    "\n",
    "arr_copy = arr.copy()\n",
    "arr_copy += 1\n",
    "print(\"\\nModified copy:\")\n",
    "print(arr_copy)\n"
   ]
  },
  {
   "cell_type": "code",
   "execution_count": 39,
   "id": "96cbae7a",
   "metadata": {},
   "outputs": [
    {
     "name": "stdout",
     "output_type": "stream",
     "text": [
      "Original array:\n",
      "[[0.17028473 0.0988663  0.07170018]\n",
      " [0.26664546 0.01745293 0.07261122]\n",
      " [0.60435524 0.51708484 0.49203848]]\n",
      "\n",
      "Modified copy:\n",
      "[[0.34056947 0.1977326 ]\n",
      " [0.53329092 0.03490586]]\n"
     ]
    }
   ],
   "source": [
    "# Create a 2D NumPy array with shape (3, 3) and fill it with random numbers.\n",
    "# Copy a slice of the array consisting of the first 2 rows and the \n",
    "# first 2 columns, and modify the copy so that all\n",
    "\n",
    "arr = np.random.random((3, 3))\n",
    "print(\"Original array:\")\n",
    "print(arr)\n",
    "\n",
    "copy = arr[:2, :2].copy()\n",
    "copy *= 2\n",
    "print(\"\\nModified copy:\")\n",
    "print(copy)\n"
   ]
  },
  {
   "cell_type": "code",
   "execution_count": null,
   "id": "cf67d333",
   "metadata": {},
   "outputs": [],
   "source": []
  }
 ],
 "metadata": {
  "kernelspec": {
   "display_name": "Python 3 (ipykernel)",
   "language": "python",
   "name": "python3"
  },
  "language_info": {
   "codemirror_mode": {
    "name": "ipython",
    "version": 3
   },
   "file_extension": ".py",
   "mimetype": "text/x-python",
   "name": "python",
   "nbconvert_exporter": "python",
   "pygments_lexer": "ipython3",
   "version": "3.9.13"
  }
 },
 "nbformat": 4,
 "nbformat_minor": 5
}
