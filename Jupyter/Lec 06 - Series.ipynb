{
 "cells": [
  {
   "cell_type": "code",
   "execution_count": 1,
   "id": "82714068",
   "metadata": {},
   "outputs": [],
   "source": [
    "import numpy as np\n",
    "import pandas as pd\n",
    "from pandas import Series,DataFrame"
   ]
  },
  {
   "cell_type": "code",
   "execution_count": 2,
   "id": "b0c7b6e9",
   "metadata": {},
   "outputs": [
    {
     "name": "stdout",
     "output_type": "stream",
     "text": [
      "0     3\n",
      "1     6\n",
      "2     9\n",
      "3    12\n",
      "dtype: int64\n"
     ]
    }
   ],
   "source": [
    "obj = Series([3,6,9,12])\n",
    "print(obj)"
   ]
  },
  {
   "cell_type": "code",
   "execution_count": 3,
   "id": "8ee3aaef",
   "metadata": {},
   "outputs": [
    {
     "data": {
      "text/plain": [
       "array([ 3,  6,  9, 12], dtype=int64)"
      ]
     },
     "execution_count": 3,
     "metadata": {},
     "output_type": "execute_result"
    }
   ],
   "source": [
    "obj.values"
   ]
  },
  {
   "cell_type": "code",
   "execution_count": 4,
   "id": "f14a189a",
   "metadata": {},
   "outputs": [
    {
     "data": {
      "text/plain": [
       "RangeIndex(start=0, stop=4, step=1)"
      ]
     },
     "execution_count": 4,
     "metadata": {},
     "output_type": "execute_result"
    }
   ],
   "source": [
    "obj.index"
   ]
  },
  {
   "cell_type": "code",
   "execution_count": 5,
   "id": "29a89aca",
   "metadata": {},
   "outputs": [
    {
     "name": "stdout",
     "output_type": "stream",
     "text": [
      "USSR       8700000\n",
      "Germany    4300000\n",
      "China      3000000\n",
      "Japan      2100000\n",
      "US          400000\n",
      "dtype: int64\n"
     ]
    }
   ],
   "source": [
    "ww2_cas =Series([8700000,4300000,3000000,2100000,400000],index=['USSR','Germany','China','Japan','US'])\n",
    "print(ww2_cas)"
   ]
  },
  {
   "cell_type": "code",
   "execution_count": 7,
   "id": "ed030dd6",
   "metadata": {},
   "outputs": [
    {
     "data": {
      "text/plain": [
       "400000"
      ]
     },
     "execution_count": 7,
     "metadata": {},
     "output_type": "execute_result"
    }
   ],
   "source": [
    "ww2_cas['US']"
   ]
  },
  {
   "cell_type": "code",
   "execution_count": 8,
   "id": "3ba3119f",
   "metadata": {},
   "outputs": [
    {
     "data": {
      "text/plain": [
       "China    3000000\n",
       "Japan    2100000\n",
       "US        400000\n",
       "dtype: int64"
      ]
     },
     "execution_count": 8,
     "metadata": {},
     "output_type": "execute_result"
    }
   ],
   "source": [
    "ww2_cas[ww2_cas<4000000]"
   ]
  },
  {
   "cell_type": "code",
   "execution_count": 9,
   "id": "e47d0d27",
   "metadata": {},
   "outputs": [
    {
     "data": {
      "text/plain": [
       "False"
      ]
     },
     "execution_count": 9,
     "metadata": {},
     "output_type": "execute_result"
    }
   ],
   "source": [
    "'USA' in ww2_cas"
   ]
  },
  {
   "cell_type": "code",
   "execution_count": 10,
   "id": "9c200032",
   "metadata": {},
   "outputs": [
    {
     "name": "stdout",
     "output_type": "stream",
     "text": [
      "{'USSR': 8700000, 'Germany': 4300000, 'China': 3000000, 'Japan': 2100000, 'US': 400000}\n"
     ]
    }
   ],
   "source": [
    "ww2_dict = ww2_cas.to_dict() # dic\n",
    "print(ww2_dict)"
   ]
  },
  {
   "cell_type": "code",
   "execution_count": null,
   "id": "e0b813c7",
   "metadata": {},
   "outputs": [],
   "source": []
  }
 ],
 "metadata": {
  "kernelspec": {
   "display_name": "Python 3 (ipykernel)",
   "language": "python",
   "name": "python3"
  },
  "language_info": {
   "codemirror_mode": {
    "name": "ipython",
    "version": 3
   },
   "file_extension": ".py",
   "mimetype": "text/x-python",
   "name": "python",
   "nbconvert_exporter": "python",
   "pygments_lexer": "ipython3",
   "version": "3.9.13"
  }
 },
 "nbformat": 4,
 "nbformat_minor": 5
}
