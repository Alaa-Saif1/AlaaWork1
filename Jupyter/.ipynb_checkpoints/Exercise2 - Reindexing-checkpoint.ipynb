{
 "cells": [
  {
   "cell_type": "markdown",
   "id": "0fcd5a1a",
   "metadata": {},
   "source": [
    "# Exercise for Series reindexing:"
   ]
  },
  {
   "cell_type": "markdown",
   "id": "b84e47cb",
   "metadata": {},
   "source": [
    "Create a Series with the following data: data = [10, 20, 30, 40, 50]\n",
    "\n",
    "\n"
   ]
  },
  {
   "cell_type": "code",
   "execution_count": null,
   "id": "41265bbb",
   "metadata": {},
   "outputs": [],
   "source": []
  },
  {
   "cell_type": "markdown",
   "id": "60c3e200",
   "metadata": {},
   "source": [
    "Assign the following index labels to the Series: index = ['a', 'b', 'c', 'd', 'e']\n"
   ]
  },
  {
   "cell_type": "code",
   "execution_count": null,
   "id": "2f87113a",
   "metadata": {},
   "outputs": [],
   "source": []
  },
  {
   "cell_type": "markdown",
   "id": "d26f678a",
   "metadata": {},
   "source": [
    "Get the index of the Series using the index attribute.\n"
   ]
  },
  {
   "cell_type": "code",
   "execution_count": null,
   "id": "f207bf20",
   "metadata": {},
   "outputs": [],
   "source": []
  },
  {
   "cell_type": "markdown",
   "id": "acfab9e3",
   "metadata": {},
   "source": [
    "Create a new index for the Series using the following labels: new_index = ['a', 'b', 'c', 'd', 'e', 'f', \n",
    "'g']"
   ]
  },
  {
   "cell_type": "code",
   "execution_count": null,
   "id": "2391694e",
   "metadata": {},
   "outputs": [],
   "source": []
  },
  {
   "cell_type": "markdown",
   "id": "3bebb9d4",
   "metadata": {},
   "source": [
    "Call the reindex method on the Series with the new index and observe the output."
   ]
  },
  {
   "cell_type": "code",
   "execution_count": null,
   "id": "7ab0ff69",
   "metadata": {},
   "outputs": [],
   "source": []
  },
  {
   "cell_type": "markdown",
   "id": "40f36cf2",
   "metadata": {},
   "source": [
    "Fill in values for the new indexes using a value of your choice"
   ]
  },
  {
   "cell_type": "code",
   "execution_count": null,
   "id": "453ada40",
   "metadata": {},
   "outputs": [],
   "source": []
  },
  {
   "cell_type": "markdown",
   "id": "87878d64",
   "metadata": {},
   "source": [
    "Use the ffill method to fill the new indexes with the previous values in the Series"
   ]
  },
  {
   "cell_type": "code",
   "execution_count": null,
   "id": "8cc1182e",
   "metadata": {},
   "outputs": [],
   "source": []
  }
 ],
 "metadata": {
  "kernelspec": {
   "display_name": "Python 3 (ipykernel)",
   "language": "python",
   "name": "python3"
  },
  "language_info": {
   "codemirror_mode": {
    "name": "ipython",
    "version": 3
   },
   "file_extension": ".py",
   "mimetype": "text/x-python",
   "name": "python",
   "nbconvert_exporter": "python",
   "pygments_lexer": "ipython3",
   "version": "3.9.13"
  }
 },
 "nbformat": 4,
 "nbformat_minor": 5
}
