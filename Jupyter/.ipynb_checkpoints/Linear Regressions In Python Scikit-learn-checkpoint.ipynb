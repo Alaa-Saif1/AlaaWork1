{
 "cells": [
  {
   "cell_type": "raw",
   "id": "92033c98",
   "metadata": {},
   "source": [
    "Created By:\n",
    "    \n",
    "    Alaa Al-abdali\n",
    "    Marwa Alisaee\n",
    "    Janat ALkhuld AL-mawali\n",
    "    Bushra Al-lawi\n",
    "    Sumaiya Al Balushi\n",
    "    Saba Al-thahli"
   ]
  },
  {
   "cell_type": "markdown",
   "id": "9898002c",
   "metadata": {},
   "source": [
    " # Create a Linear Regression Model"
   ]
  },
  {
   "cell_type": "markdown",
   "id": "cd2d47ef",
   "metadata": {},
   "source": [
    "## Import the packages and classes needed in this example:"
   ]
  },
  {
   "cell_type": "code",
   "execution_count": 2,
   "id": "c837e39e",
   "metadata": {},
   "outputs": [],
   "source": [
    "import numpy as np\n",
    "from sklearn.linear_model import LinearRegression"
   ]
  },
  {
   "cell_type": "markdown",
   "id": "568172e4",
   "metadata": {},
   "source": [
    "# Create a numpy array of data:"
   ]
  },
  {
   "cell_type": "code",
   "execution_count": 3,
   "id": "b51a9521",
   "metadata": {},
   "outputs": [],
   "source": [
    "x = np.array([6, 16, 26, 36, 46, 56]).reshape((-1, 1))\n",
    "y = np.array([4, 23, 10, 12, 22, 35])"
   ]
  },
  {
   "cell_type": "markdown",
   "id": "1c788fab",
   "metadata": {},
   "source": [
    "# Create an instance of a linear regression model and fit it to the data with the fit() function:"
   ]
  },
  {
   "cell_type": "code",
   "execution_count": 4,
   "id": "1d09b7c5",
   "metadata": {},
   "outputs": [],
   "source": [
    "model = LinearRegression().fit(x, y) "
   ]
  },
  {
   "cell_type": "markdown",
   "id": "bb1cdf41",
   "metadata": {},
   "source": [
    "# The following section will get results by interpreting the created instance: "
   ]
  },
  {
   "cell_type": "markdown",
   "id": "fa168ac6",
   "metadata": {},
   "source": [
    "### Obtain the coefficient of determination by calling the model with the score() function."
   ]
  },
  {
   "cell_type": "code",
   "execution_count": 5,
   "id": "2ff20c86",
   "metadata": {},
   "outputs": [],
   "source": [
    "r_sq = model.score(x, y)"
   ]
  },
  {
   "cell_type": "markdown",
   "id": "ce324653",
   "metadata": {},
   "source": [
    "### print the coefficient:"
   ]
  },
  {
   "cell_type": "code",
   "execution_count": 6,
   "id": "9cfc0d54",
   "metadata": {},
   "outputs": [
    {
     "name": "stdout",
     "output_type": "stream",
     "text": [
      "coefficient of determination: 0.5417910447761193\n"
     ]
    }
   ],
   "source": [
    "print('coefficient of determination:', r_sq)"
   ]
  },
  {
   "cell_type": "markdown",
   "id": "c662e050",
   "metadata": {},
   "source": [
    "### Print the Intercept:"
   ]
  },
  {
   "cell_type": "code",
   "execution_count": 7,
   "id": "b287613f",
   "metadata": {},
   "outputs": [
    {
     "name": "stdout",
     "output_type": "stream",
     "text": [
      "intercept: 4.026666666666667\n"
     ]
    }
   ],
   "source": [
    "print('intercept:', model.intercept_)"
   ]
  },
  {
   "cell_type": "markdown",
   "id": "41f486e3",
   "metadata": {},
   "source": [
    "### Print the Slope:"
   ]
  },
  {
   "cell_type": "code",
   "execution_count": 8,
   "id": "0a498aa0",
   "metadata": {},
   "outputs": [
    {
     "name": "stdout",
     "output_type": "stream",
     "text": [
      "slope: [0.44]\n"
     ]
    }
   ],
   "source": [
    "print('slope:', model.coef_) "
   ]
  },
  {
   "cell_type": "markdown",
   "id": "6ed2faa7",
   "metadata": {},
   "source": [
    "### Predict a Response:"
   ]
  },
  {
   "cell_type": "code",
   "execution_count": 9,
   "id": "2df4b32a",
   "metadata": {},
   "outputs": [],
   "source": [
    "y_pred = model.predict(x)"
   ]
  },
  {
   "cell_type": "markdown",
   "id": "018e5961",
   "metadata": {},
   "source": [
    "### print Predict:"
   ]
  },
  {
   "cell_type": "code",
   "execution_count": 10,
   "id": "bc94a426",
   "metadata": {},
   "outputs": [
    {
     "name": "stdout",
     "output_type": "stream",
     "text": [
      "Predicted response:\n",
      "[ 6.66666667 11.06666667 15.46666667 19.86666667 24.26666667 28.66666667]\n"
     ]
    }
   ],
   "source": [
    "print('Predicted response:', y_pred, sep='\\n')"
   ]
  },
  {
   "cell_type": "markdown",
   "id": "435b16e6",
   "metadata": {},
   "source": [
    "# Create a Linear Regression and Display it"
   ]
  },
  {
   "cell_type": "markdown",
   "id": "721c3c82",
   "metadata": {},
   "source": [
    "### Import the packages and classes needed for this example:"
   ]
  },
  {
   "cell_type": "code",
   "execution_count": 12,
   "id": "7f39c4f9",
   "metadata": {},
   "outputs": [],
   "source": [
    "import matplotlib.pyplot as plt"
   ]
  },
  {
   "cell_type": "markdown",
   "id": "c793896f",
   "metadata": {},
   "source": [
    "### Create random data with numpy:"
   ]
  },
  {
   "cell_type": "code",
   "execution_count": 21,
   "id": "9070b38b",
   "metadata": {},
   "outputs": [],
   "source": [
    "rnstate = np.random.RandomState(1)\n",
    "x = 10 * rnstate.rand(70)\n",
    "y = 2 * x - 5 + rnstate.randn(70)"
   ]
  },
  {
   "cell_type": "markdown",
   "id": "f241b22c",
   "metadata": {},
   "source": [
    "### plot it with matplotlib:"
   ]
  },
  {
   "cell_type": "code",
   "execution_count": 22,
   "id": "823370aa",
   "metadata": {},
   "outputs": [
    {
     "data": {
      "image/png": "[encoded data removed]",
      "text/plain": [
       "<Figure size 640x480 with 1 Axes>"
      ]
     },
     "metadata": {},
     "output_type": "display_data"
    }
   ],
   "source": [
    "plt.scatter(x, y);\n",
    "plt.show()"
   ]
  },
  {
   "cell_type": "markdown",
   "id": "3cbd00b9",
   "metadata": {},
   "source": [
    "## Create a linear regression model based the positioning of the data and Intercept, and predict a Best Fit:"
   ]
  },
  {
   "cell_type": "code",
   "execution_count": 23,
   "id": "127439f6",
   "metadata": {},
   "outputs": [],
   "source": [
    "model = LinearRegression(fit_intercept=True)\n",
    "model.fit(x[:, np.newaxis], y)\n",
    "xfit = np.linspace(0, 10, 1000)\n",
    "yfit = model.predict(xfit[:, np.newaxis])"
   ]
  },
  {
   "cell_type": "markdown",
   "id": "6af983f0",
   "metadata": {},
   "source": [
    "## Plot the estimated linear regression line with matplotlib:"
   ]
  },
  {
   "cell_type": "code",
   "execution_count": 24,
   "id": "91fcaed0",
   "metadata": {},
   "outputs": [
    {
     "data": {
      "image/png": "[encoded data removed]",
      "text/plain": [
       "<Figure size 640x480 with 1 Axes>"
      ]
     },
     "metadata": {},
     "output_type": "display_data"
    }
   ],
   "source": [
    "plt.scatter(x, y)\n",
    "plt.plot(xfit, yfit);\n",
    "plt.show()"
   ]
  }
 ],
 "metadata": {
  "kernelspec": {
   "display_name": "Python 3 (ipykernel)",
   "language": "python",
   "name": "python3"
  },
  "language_info": {
   "codemirror_mode": {
    "name": "ipython",
    "version": 3
   },
   "file_extension": ".py",
   "mimetype": "text/x-python",
   "name": "python",
   "nbconvert_exporter": "python",
   "pygments_lexer": "ipython3",
   "version": "3.9.13"
  }
 },
 "nbformat": 4,
 "nbformat_minor": 5
}
