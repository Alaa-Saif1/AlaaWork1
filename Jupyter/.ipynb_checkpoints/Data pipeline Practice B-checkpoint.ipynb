{
 "cells": [
  {
   "cell_type": "code",
   "execution_count": 1,
   "id": "a6f347e7",
   "metadata": {},
   "outputs": [
    {
     "name": "stdout",
     "output_type": "stream",
     "text": [
      "Enter a number: 5\n"
     ]
    }
   ],
   "source": [
    "import math\n",
    "\n",
    "from numbers import Number\n",
    "from typing import Iterable\n",
    "\n",
    "x = input(\"Enter a number: \") \n",
    "XType = Number\n",
    "PowerType = Number\n",
    "PipelineItems = Iterable[XType]\n",
    "\n",
    "def double(x: XType) -> XType:\n",
    "    return x ** 2\n",
    "\n",
    "def power(x: XType, n: PowerType) -> XType:\n",
    "    return x ** n\n",
    "\n",
    "def add(x: XType, y: Number) -> XType:\n",
    "    return x + y"
   ]
  },
  {
   "cell_type": "code",
   "execution_count": 2,
   "id": "7258e74d",
   "metadata": {},
   "outputs": [],
   "source": [
    "def get_pipeline_all_calc(items: PipelineItems):\n",
    "    return (\n",
    "        add(\n",
    "            round(\n",
    "                add(\n",
    "                    power(\n",
    "                        add(\n",
    "                            double(\n",
    "                                power(x_i, .5)\n",
    "                            ),\n",
    "                            12\n",
    "                        ),\n",
    "                        2\n",
    "                    ),\n",
    "                    math.pi**.5\n",
    "                    ),\n",
    "                2\n",
    "            ),\n",
    "            75\n",
    "        )\n",
    "        for x_i in items\n",
    "    )"
   ]
  },
  {
   "cell_type": "code",
   "execution_count": 3,
   "id": "0feefbc7",
   "metadata": {},
   "outputs": [],
   "source": [
    "def get_pipeline_all_calc(n):\n",
    "    return (\n",
    "        add(\n",
    "            round(\n",
    "                add(\n",
    "                    power(add(double(power(x_i, 0.5)), 12), 2), math.pi ** 0.5\n",
    "                ),\n",
    "                2,\n",
    "            ),\n",
    "            75,\n",
    "        )\n",
    "        for x_i in range(n)\n",
    "    )"
   ]
  },
  {
   "cell_type": "code",
   "execution_count": 4,
   "id": "c2ce88c5",
   "metadata": {},
   "outputs": [],
   "source": [
    "def get_pipeline_original(items: PipelineItems):\n",
    "    step_1 = (power(x_i, .5) for x_i in items)\n",
    "    step_2 = (double(x_i) for x_i in step_1)\n",
    "    step_3 = (add(x_i, 12) for x_i in step_2)\n",
    "    step_4 = (power(x_i, 2) for x_i in step_3)\n",
    "    step_5 = (add(x_i, math.pi**.5) for x_i in step_4)\n",
    "    step_6 = (round(x_i, 2) for x_i in step_5)\n",
    "    pipeline_end = (add(x_i, 75) for x_i in step_6)\n",
    "    return pipeline_end"
   ]
  },
  {
   "cell_type": "code",
   "execution_count": 5,
   "id": "3713c110",
   "metadata": {},
   "outputs": [],
   "source": [
    "def calculate(x):\n",
    "    x = power(x, .5)\n",
    "    x = double(x)\n",
    "    x = add(x, 12)\n",
    "    x = power(x, 2)\n",
    "    x = add(x, math.pi**.5)\n",
    "    x = round(x, 2)\n",
    "    x = add(x, 75)\n",
    "    return x\n",
    "\n",
    "def get_pipeline_proposed(items: PipelineItems):\n",
    "    return (calculate(x_i) for x_i in items)"
   ]
  },
  {
   "cell_type": "code",
   "execution_count": 6,
   "id": "3040ca99",
   "metadata": {},
   "outputs": [],
   "source": [
    "def get_pipeline_proposed_map(items: PipelineItems):\n",
    "    return map(calculate, items)"
   ]
  },
  {
   "cell_type": "code",
   "execution_count": 7,
   "id": "a7999680",
   "metadata": {},
   "outputs": [],
   "source": [
    "import time\n",
    "\n",
    "def double(x):    \n",
    "    time.sleep(.5)\n",
    "    return x**2"
   ]
  },
  {
   "cell_type": "code",
   "execution_count": 8,
   "id": "c0a86dfe",
   "metadata": {},
   "outputs": [],
   "source": [
    "def pipeline(x):\n",
    "    step1 = (function1(x_i) for x_i in x)\n",
    "    step2 = (function2(x_i) for x_i in step1)\n",
    "    step3 = (function3(x_i) for x_i in step2)\n",
    "    return (function4(x_i) for x_i in step3)\n",
    "\n",
    "results = pipeline(x)"
   ]
  },
  {
   "cell_type": "code",
   "execution_count": 9,
   "id": "db124724",
   "metadata": {},
   "outputs": [],
   "source": [
    "def operations(x_i):\n",
    "    step1 = function1(x_i)\n",
    "    step2 = function2(step1)\n",
    "    step3 = function3(step2)\n",
    "    return function4(step3)\n",
    "\n",
    "results = (operations(x_i) for x_i in x)\n",
    "# or\n",
    "results = map(operations, x)"
   ]
  }
 ],
 "metadata": {
  "kernelspec": {
   "display_name": "Python 3 (ipykernel)",
   "language": "python",
   "name": "python3"
  },
  "language_info": {
   "codemirror_mode": {
    "name": "ipython",
    "version": 3
   },
   "file_extension": ".py",
   "mimetype": "text/x-python",
   "name": "python",
   "nbconvert_exporter": "python",
   "pygments_lexer": "ipython3",
   "version": "3.9.13"
  }
 },
 "nbformat": 4,
 "nbformat_minor": 5
}
