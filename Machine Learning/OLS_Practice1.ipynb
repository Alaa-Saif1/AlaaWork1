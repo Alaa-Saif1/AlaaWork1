{
  "metadata": {
    "language_info": {
      "codemirror_mode": {
        "name": "python",
        "version": 3
      },
      "file_extension": ".py",
      "mimetype": "text/x-python",
      "name": "python",
      "nbconvert_exporter": "python",
      "pygments_lexer": "ipython3",
      "version": "3.8"
    },
    "kernelspec": {
      "name": "python",
      "display_name": "Python (Pyodide)",
      "language": "python"
    }
  },
  "nbformat_minor": 4,
  "nbformat": 4,
  "cells": [
    {
      "cell_type": "markdown",
      "source": "# OLS",
      "metadata": {}
    },
    {
      "cell_type": "markdown",
      "source": "### Libraries",
      "metadata": {}
    },
    {
      "cell_type": "code",
      "source": "import numpy as np\nfrom sklearn.linear_model import LinearRegression",
      "metadata": {
        "trusted": true
      },
      "execution_count": 5,
      "outputs": []
    },
    {
      "cell_type": "code",
      "source": "# Given data\nhours_of_sunshine = np.array([2, 3, 5, 7, 9]).reshape(-1, 1)\nice_creams_sold = np.array([4, 5, 7, 10, 15])\n\n# Linear Regression model\nmodel = LinearRegression()\n\n# Fit the model\nmodel.fit(hours_of_sunshine, ice_creams_sold)\n\n# Get the slope (m) and intercept (b)\nslope = model.coef_[0]\nintercept = model.intercept_\n\nprint(f\"Slope (m): {slope:.3f}\")\nprint(f\"Intercept (b): {intercept:.3f}\")",
      "metadata": {
        "trusted": true
      },
      "execution_count": 6,
      "outputs": [
        {
          "name": "stdout",
          "text": "Slope (m): 1.518\nIntercept (b): 0.305\n",
          "output_type": "stream"
        }
      ]
    },
    {
      "cell_type": "markdown",
      "source": "# Farmola\n#### y = 1.518x + 0.305",
      "metadata": {}
    }
  ]
}