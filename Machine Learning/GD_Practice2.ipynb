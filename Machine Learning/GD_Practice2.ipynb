{
  "metadata": {
    "language_info": {
      "codemirror_mode": {
        "name": "python",
        "version": 3
      },
      "file_extension": ".py",
      "mimetype": "text/x-python",
      "name": "python",
      "nbconvert_exporter": "python",
      "pygments_lexer": "ipython3",
      "version": "3.8"
    },
    "kernelspec": {
      "name": "python",
      "display_name": "Python (Pyodide)",
      "language": "python"
    }
  },
  "nbformat_minor": 4,
  "nbformat": 4,
  "cells": [
    {
      "cell_type": "markdown",
      "source": "# GD",
      "metadata": {}
    },
    {
      "cell_type": "markdown",
      "source": "### Libraries",
      "metadata": {}
    },
    {
      "cell_type": "code",
      "source": "import numpy as np",
      "metadata": {
        "trusted": true
      },
      "execution_count": 1,
      "outputs": []
    },
    {
      "cell_type": "code",
      "source": "# Given data\n\nhours_of_sunshine = np.array([2, 3, 5, 7, 9])\nice_creams_sold = np.array([4, 5, 7, 10, 15])",
      "metadata": {
        "trusted": true
      },
      "execution_count": 13,
      "outputs": []
    },
    {
      "cell_type": "code",
      "source": "# Hyperparameters\n\nlearning_rate = 0.001\nnum_iterations = 5\n\n# Initialize parameters (slope m and intercept b)\n\nm = 0\nb = 0",
      "metadata": {
        "trusted": true
      },
      "execution_count": 26,
      "outputs": []
    },
    {
      "cell_type": "code",
      "source": "# Performing Gradient Descent\n\nfor _ in range(num_iterations):\n    \n    # Calculate predicted values\n    \n    y_pred = m * hours_of_sunshine + b\n\n    # Calculate the gradient of the mean squared error with respect to m and b\n    \n    gradient_m = (-2 / len(hours_of_sunshine)) * np.sum(hours_of_sunshine * (ice_creams_sold - y_pred))\n    gradient_b = (-2 / len(hours_of_sunshine)) * np.sum(ice_creams_sold - y_pred)\n\n    # Update parameters using the gradients and learning rate\n    \n    m -= learning_rate * gradient_m\n    b -= learning_rate * gradient_b",
      "metadata": {
        "trusted": true
      },
      "execution_count": 27,
      "outputs": []
    },
    {
      "cell_type": "code",
      "source": "# Print the final values of m and b\n\nprint(f\"Final slope (m): {m:.3f}\")\nprint(f\"Final intercept (b): {b:.3f}\")",
      "metadata": {
        "trusted": true
      },
      "execution_count": 28,
      "outputs": [
        {
          "name": "stdout",
          "text": "Final slope (m): 0.458\nFinal intercept (b): 0.071\n",
          "output_type": "stream"
        }
      ]
    }
  ]
}